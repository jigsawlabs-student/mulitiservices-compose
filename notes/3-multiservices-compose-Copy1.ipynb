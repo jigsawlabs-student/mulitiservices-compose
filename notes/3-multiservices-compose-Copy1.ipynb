{
 "cells": [
  {
   "cell_type": "markdown",
   "metadata": {},
   "source": [
    "# Automating Scripts with Docker Compose"
   ]
  },
  {
   "cell_type": "markdown",
   "metadata": {},
   "source": [
    "### Introduction"
   ]
  },
  {
   "cell_type": "markdown",
   "metadata": {},
   "source": [
    "In the last lesson, we focused on Dockerizing our flask application.  In this lesson, we'll see how we can use Docker compose to further automate configuration like port mapping, setting environmental variables, and bind mounts."
   ]
  },
  {
   "cell_type": "markdown",
   "metadata": {},
   "source": [
    "### Reviewing our Application"
   ]
  },
  {
   "cell_type": "markdown",
   "metadata": {},
   "source": [
    "With our Flask application in the last lesson, we wrote code that returned a list of users upon a GET request to `/users`."
   ]
  },
  {
   "cell_type": "markdown",
   "metadata": {},
   "source": [
    "```python\n",
    "# project/__init__.py\n",
    "from flask import Flask, jsonify\n",
    "\n",
    "app = Flask(__name__)\n",
    "\n",
    "@app.route('/users')\n",
    "def index():\n",
    "    return jsonify({'users': ['bart simpson']})\n",
    "\n",
    "if __name__ == '__main__':\n",
    "    app.run(debug=True)\n",
    "```"
   ]
  },
  {
   "cell_type": "markdown",
   "metadata": {},
   "source": [
    "And we then embedded this in a docker image with the following `Dockerfile`."
   ]
  },
  {
   "cell_type": "markdown",
   "metadata": {},
   "source": [
    "```Dockerfile\n",
    "FROM python:3.7-alpine\n",
    "WORKDIR /usr/src/app\n",
    "COPY ./requirements.txt .\n",
    "RUN pip3 install -r requirements.txt\n",
    "COPY . .\n",
    "CMD [\"flask\", \"run\", \"--host=0.0.0.0\"]\n",
    "```"
   ]
  },
  {
   "cell_type": "markdown",
   "metadata": {},
   "source": [
    "Now to actually run this so that we can access our flask application, we need to first build our image:\n",
    "`docker build -t flask_docker .`\n",
    "\n",
    "And then call `docker run` like so: "
   ]
  },
  {
   "cell_type": "markdown",
   "metadata": {},
   "source": [
    "> `docker run -p 5000:5000 -e FLASK_APP=project/__init__.py flask_docker`"
   ]
  },
  {
   "cell_type": "markdown",
   "metadata": {},
   "source": [
    "Now calling the run file properly involves a good amount of knowledge about the project.  We need to know/remember to map our ports, and to specify an environmental variable.  So let's use docker-compose to specify this configuration in `yml` file."
   ]
  },
  {
   "cell_type": "markdown",
   "metadata": {},
   "source": [
    "### Introducing Docker Compose"
   ]
  },
  {
   "cell_type": "markdown",
   "metadata": {},
   "source": [
    "To docker-compose with the following `docker-compose.yml` file:\n",
    "\n",
    "```python\n",
    "version: '3.7'\n",
    "services:\n",
    "  web:\n",
    "    image: flask_docker\n",
    "    ports:\n",
    "      - 5000:5000\n",
    "    environment:\n",
    "      - FLASK_APP=project/__init__.py\n",
    "```"
   ]
  },
  {
   "cell_type": "markdown",
   "metadata": {},
   "source": [
    "Ok, now instead of calling `docker run` directly, we can call our `docker-compose` file with the following command: \n",
    "\n",
    "* `docker-compose up`"
   ]
  },
  {
   "cell_type": "markdown",
   "metadata": {},
   "source": [
    "<img src=\"./docker-compose-web-db.png\" width=\"80%\">"
   ]
  },
  {
   "cell_type": "markdown",
   "metadata": {},
   "source": [
    "As we know, the `docker-compose.yml` file defines one service.  We would like postgres to be our second service.  Lucky for us, there is already a [postgres image on dockerhub](https://hub.docker.com/_/postgres) for us.  And we can modify our `docker-compose.yml` as our second service."
   ]
  },
  {
   "cell_type": "markdown",
   "metadata": {},
   "source": [
    "```python\n",
    "\n",
    "version: '3.7'\n",
    "services:\n",
    "  web:\n",
    "    build:\n",
    "      context: ./web-app\n",
    "      dockerfile: Dockerfile\n",
    "    ports:\n",
    "      - 3000:5000\n",
    "    environment:\n",
    "      - FLASK_APP=project/__init__.py\n",
    "      - FLASK_ENV=development\n",
    "    volumes:\n",
    "      - .:/web/flask\n",
    "  db:\n",
    "    image: postgres:12-alpine\n",
    "    ports:\n",
    "      - 5435:5432\n",
    "    environment:\n",
    "      - POSTGRES_USER=default-user\n",
    "      - POSTGRES_PASSWORD=password\n",
    "```"
   ]
  },
  {
   "cell_type": "markdown",
   "metadata": {},
   "source": [
    "Let's pay attention to a couple of things with our db service.  The first is that here we are not using a custom Dockerfile, but rather just using the image that we see in our Dockerhub.  \n",
    "> If we wanted to have a custom postgres setup, we would just use the `build` like before and use the `postgres` image as the base image in the respective Dockerfile. \n",
    "\n",
    "Next, when we connect to our postgres database, we also connect through a port.  Here, we link our host's port of 5435 to the container's port of 5432 where postgres is running.  We can see this by Googling around, or by looking at the [Dockerfile](https://github.com/docker-library/postgres/blob/d6e8fe3240b3d2c5d1a03f005360710812714163/12/alpine/Dockerfile) that ends with: \n",
    "\n",
    "```python\n",
    "EXPOSE 5432\n",
    "CMD [\"postgres\"]\n",
    "```"
   ]
  },
  {
   "cell_type": "markdown",
   "metadata": {},
   "source": [
    "Finally, we set the `POSTGRES_USER=postgres` and `POSTGRES_PASSWORD=postgres` as environment variables for accessing postgres under the `environment` flag."
   ]
  },
  {
   "cell_type": "markdown",
   "metadata": {},
   "source": [
    "### Linking to the Database"
   ]
  },
  {
   "cell_type": "markdown",
   "metadata": {},
   "source": [
    "With connecting to a postgres database, the format is the following, we can connect if we have the following information: \n",
    "\n",
    "* user\n",
    "* pwd\n",
    "* host\n",
    "* port\n",
    "* db"
   ]
  },
  {
   "cell_type": "markdown",
   "metadata": {},
   "source": [
    "The user and password we have already defined as `default-user` and `password`.  The host is normally a host-url where the database is hosted, but within docker-compose, we can just use the image name we provided.  So the host is simply `db`.  Then we still need to create a database for development, and one for test and production environments.  We will name that development database `development`.  So following the pattern above, we can use some Python to format our postgres url correctly.  "
   ]
  },
  {
   "cell_type": "code",
   "execution_count": 11,
   "metadata": {},
   "outputs": [
    {
     "data": {
      "text/plain": [
       "'postgres://default-user:password@db:5432/development'"
      ]
     },
     "execution_count": 11,
     "metadata": {},
     "output_type": "execute_result"
    }
   ],
   "source": [
    "user = 'default-user'\n",
    "pwd = 'password'\n",
    "port = '5432'\n",
    "host = 'db'\n",
    "database = 'development'\n",
    "\n",
    "'postgres://%s:%s@%s:%s/%s' % (user, pwd, host, port, db)"
   ]
  },
  {
   "cell_type": "markdown",
   "metadata": {},
   "source": [
    "So if we want to connect a sql client to the development database this is how we do it.  \n",
    "\n",
    "```python\n",
    "services:\n",
    "    web:\n",
    "        environment:\n",
    "          - FLASK_APP=project/__init__.py\n",
    "          - FLASK_ENV=development\n",
    "          - APP_SETTINGS=project.config.DevelopmentConfig\n",
    "          - DATABASE_URL=postgres://default-user:password@db:5432/development\n",
    "          - DATABASE_TEST_URL=postgres://default-user:password@db:5432/test\n",
    "          - DATABASE_PROD_URL=postgres://default-user:password@db:5432/prod\n",
    "```\n",
    "\n",
    "This sets up the environment variables in our web container, which point to the postgres database.  Then, we can update the config file in our flask app to reference these variables and thus the postgres databases."
   ]
  },
  {
   "cell_type": "markdown",
   "metadata": {},
   "source": [
    "```python\n",
    "\n",
    "# users/project/config.py\n",
    "import os\n",
    "class BaseConfig:\n",
    "    \"\"\"Base configuration\"\"\"\n",
    "    TESTING = False\n",
    "    SQLALCHEMY_TRACK_MODIFICATIONS = False\n",
    "\n",
    "class DevelopmentConfig(BaseConfig):\n",
    "    \"\"\"Development configuration\"\"\"\n",
    "    SQLALCHEMY_DATABASE_URI = os.environ.get('DATABASE_URL')  \n",
    "\n",
    "class TestingConfig(BaseConfig):\n",
    "    \"\"\"Testing configuration\"\"\"\n",
    "    TESTING = True\n",
    "    SQLALCHEMY_DATABASE_URI = os.environ.get('DATABASE_TEST_URL') \n",
    "\n",
    "class ProductionConfig(BaseConfig):\n",
    "    \"\"\"Production configuration\"\"\"\n",
    "    SQLALCHEMY_DATABASE_URI = os.environ.get('PROD_DATABASE_URL')\n",
    "```"
   ]
  },
  {
   "cell_type": "markdown",
   "metadata": {},
   "source": [
    "And then take a look at our `__init__.py` file below.  There, we connect have our `APP_SETTINGS` environment variable set as `DevelopmentConfig`, which referencess the respective class in the `config.py` file, which references the `DATABASE_URL`, which points to `postgres://default-user:password@db:5432/development`.  So when we are in our development environment, SQLAlchemy connects to `postgres://default-user:password@db:5432/development`."
   ]
  },
  {
   "cell_type": "markdown",
   "metadata": {},
   "source": [
    "```python\n",
    "import os  # new\n",
    "from flask import Flask, jsonify\n",
    "from flask_restful import Resource, Api\n",
    "from flask_sqlalchemy import SQLAlchemy  # new\n",
    "\n",
    "app = Flask(__name__)\n",
    "api = Api(app)\n",
    "\n",
    "app_settings = os.getenv('APP_SETTINGS')  # new\n",
    "app.config.from_object(app_settings)      # new\n",
    "\n",
    "db = SQLAlchemy(app)\n",
    "```"
   ]
  },
  {
   "cell_type": "markdown",
   "metadata": {},
   "source": [
    "Now, we need a script that will create these databases.  So we add a new folder of `db` and a file of `create.sql` to write the following script."
   ]
  },
  {
   "cell_type": "markdown",
   "metadata": {},
   "source": [
    "`project/db/create.sql`\n",
    "```sql\n",
    "CREATE DATABASE users_prod;\n",
    "CREATE DATABASE users_dev;\n",
    "CREATE DATABASE users_test;\n",
    "```"
   ]
  },
  {
   "cell_type": "markdown",
   "metadata": {},
   "source": [
    "### Final Touches"
   ]
  },
  {
   "cell_type": "markdown",
   "metadata": {},
   "source": [
    "Our environment is almost setup.  There are just a few missing items:\n",
    "\n",
    "1. We need to persist changes to the database \n",
    "    * This sounds like the job of a volume.  We can create a volume mounted in our `db` container with the following.\n",
    "    \n",
    "```python\n",
    "  db:\n",
    "    image: postgres:12-alpine\n",
    "    ports:\n",
    "      - 5435:5432\n",
    "    environment:\n",
    "      - POSTGRES_USER=default-user\n",
    "      - POSTGRES_PASSWORD=password\n",
    "    volumes:\n",
    "      - \"dbdata:/var/lib/postgresql/data\"\n",
    "```\n",
    "\n",
    "So we create a volume named `dbdata` that mounts to our postgres image at `var/lib/postgresql/data`.  How did we know to mount our volume to that location in the postgres image?  It tells us in the [postgres image documentation](https://hub.docker.com/_/postgres/)."
   ]
  },
  {
   "cell_type": "markdown",
   "metadata": {},
   "source": [
    "2. We need to ensure that the postgres image runs the `create.sql` file\n",
    "\n",
    "There are a couple of different ways that we can achieve this.  One is to simply extend the postgres image by creating a Dockerfile for this image, and running the file.\n",
    "\n",
    "A second is to user our `docker-compose.yml` file to override the command in the used image.  Let's take this separate approach."
   ]
  },
  {
   "cell_type": "markdown",
   "metadata": {},
   "source": [
    "```python\n",
    "  db:\n",
    "    image: postgres:12-alpine\n",
    "    ports:\n",
    "      - 5435:5432\n",
    "    environment:\n",
    "      - POSTGRES_USER=default-user\n",
    "      - POSTGRES_PASSWORD=password\n",
    "    volumes:\n",
    "      - \"dbdata:/var/lib/postgresql/data\"\n",
    "    command:\n",
    "        - \"init.db.sh\"\n",
    "```"
   ]
  },
  {
   "cell_type": "markdown",
   "metadata": {},
   "source": [
    "**Add init.db.sh file to this section** "
   ]
  },
  {
   "cell_type": "markdown",
   "metadata": {},
   "source": [
    "3. An order dependency between images\n",
    "\n",
    "Finally, it matters to us which image is booted up first.  Think about it, if our flask app tries to connect to the `db` image before it is up and running, there will be problems.  We can ensure that our `db` image boots up before the `web` image, by adding a `depends_on: db` key to the `web` image.  \n",
    "```\n",
    "web:\n",
    "    depends_on: \n",
    "      - db\n",
    "```\n",
    "With these changes in place our `docker-compose.yml` file looks like the following."
   ]
  },
  {
   "cell_type": "markdown",
   "metadata": {},
   "source": [
    "```python\n",
    "\n",
    "version: '3.7'\n",
    "services:\n",
    "  web:\n",
    "    build:\n",
    "      context: ./web-app\n",
    "      dockerfile: Dockerfile\n",
    "    ports:\n",
    "      - 3000:5000\n",
    "    environment:\n",
    "      - FLASK_APP=project/__init__.py\n",
    "      - FLASK_ENV=development\n",
    "      - APP_SETTINGS=project.config.DevelopmentConfig\n",
    "      - DATABASE_URL=postgres://default-user:password@db:5432/development\n",
    "      - DATABASE_TEST_URL=postgres://default-user:password@db:5432/test\n",
    "      - DATABASE_PROD_URL=postgres://default-user:password@db:5432/prod\n",
    "    volumes:\n",
    "      - .:/web/flask\n",
    "    depends_on: \n",
    "      - db\n",
    "  db:\n",
    "    image: postgres:12-alpine\n",
    "    ports:\n",
    "      - 5435:5432\n",
    "    environment:\n",
    "      - POSTGRES_USER=default-user\n",
    "      - POSTGRES_PASSWORD=password\n",
    "    volumes:\n",
    "      - \"dbdata:/var/lib/postgresql/data\"\n",
    "    command:\n",
    "        - \"init.db.sh\"\n",
    "```"
   ]
  },
  {
   "cell_type": "markdown",
   "metadata": {},
   "source": [
    "* maybe need to change project.config.DevelopmentConfig to web-app.config"
   ]
  },
  {
   "cell_type": "markdown",
   "metadata": {},
   "source": [
    "Now we simply have to run `docker-compose up` and we can view our web app loaded up and available on port `3000`."
   ]
  },
  {
   "cell_type": "markdown",
   "metadata": {},
   "source": [
    "### Resources"
   ]
  },
  {
   "cell_type": "markdown",
   "metadata": {},
   "source": [
    "[docker with volumes](https://www.saltycrane.com/blog/2019/01/how-run-postgresql-docker-mac-local-development/)"
   ]
  },
  {
   "cell_type": "markdown",
   "metadata": {},
   "source": [
    "http://www.ameyalokare.com/docker/2017/09/20/nginx-flask-postgres-docker-compose.html"
   ]
  }
 ],
 "metadata": {
  "kernelspec": {
   "display_name": "Python 3.10.6 64-bit",
   "language": "python",
   "name": "python3"
  },
  "language_info": {
   "codemirror_mode": {
    "name": "ipython",
    "version": 3
   },
   "file_extension": ".py",
   "mimetype": "text/x-python",
   "name": "python",
   "nbconvert_exporter": "python",
   "pygments_lexer": "ipython3",
   "version": "3.10.6"
  },
  "vscode": {
   "interpreter": {
    "hash": "b0fa6594d8f4cbf19f97940f81e996739fb7646882a419484c72d19e05852a7e"
   }
  }
 },
 "nbformat": 4,
 "nbformat_minor": 4
}
